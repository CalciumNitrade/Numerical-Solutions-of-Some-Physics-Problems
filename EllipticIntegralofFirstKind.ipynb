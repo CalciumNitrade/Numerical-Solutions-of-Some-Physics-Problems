{
  "nbformat": 4,
  "nbformat_minor": 0,
  "metadata": {
    "colab": {
      "name": "EllipticIntegralofFirstKind.ipynb",
      "provenance": []
    },
    "kernelspec": {
      "name": "python3",
      "display_name": "Python 3"
    }
  },
  "cells": [
    {
      "cell_type": "markdown",
      "metadata": {
        "id": "de5M6rS2l1ie"
      },
      "source": [
        "This work is done for a homework given in 2020-2021 fall semester for Classical Mechanics.\n",
        "We were suppose to find how the period of a pendulum changes depending on the release angle."
      ]
    },
    {
      "cell_type": "code",
      "metadata": {
        "id": "K7QxsWQnTGSx"
      },
      "source": [
        "import scipy as sci\n",
        "import numpy as np\n",
        "import matplotlib.pyplot as plt\n",
        "from scipy import integrate"
      ],
      "execution_count": 5,
      "outputs": []
    },
    {
      "cell_type": "code",
      "metadata": {
        "id": "A8c7NV6xTKsr"
      },
      "source": [
        "def ellipticfirst(x,k):\n",
        "  return (1/(np.sqrt(1-(k*np.sin(x)**2))))"
      ],
      "execution_count": 6,
      "outputs": []
    },
    {
      "cell_type": "code",
      "metadata": {
        "id": "Vi1nkOl-lj0C"
      },
      "source": [
        "k=0\n",
        "values = []\n",
        "for j in range (90):\n",
        "      values.append(integrate.quad(ellipticfirst,0,np.pi/2,args=np.sin(np.deg2rad(j))))"
      ],
      "execution_count": 7,
      "outputs": []
    },
    {
      "cell_type": "code",
      "metadata": {
        "id": "QNxq9aBvlYtg",
        "outputId": "fbbe0391-b6c1-4b5c-b660-3830fcb0d106",
        "colab": {
          "base_uri": "https://localhost:8080/",
          "height": 312
        }
      },
      "source": [
        "integralValues = np.array(values)\n",
        "plt.xlabel(\"Degree\")\n",
        "plt.ylabel(\"Period (4x(l/g)^1/2 s)\")    \n",
        "plt.title(\"Variation of T with respect to Phi_0\")  \n",
        "plt.plot(integralValues[:,0])"
      ],
      "execution_count": 8,
      "outputs": [
        {
          "output_type": "execute_result",
          "data": {
            "text/plain": [
              "[<matplotlib.lines.Line2D at 0x7ffba9540358>]"
            ]
          },
          "metadata": {
            "tags": []
          },
          "execution_count": 8
        },
        {
          "output_type": "display_data",
          "data": {
            "image/png": "[encoded data removed]",
            "text/plain": [
              "<Figure size 432x288 with 1 Axes>"
            ]
          },
          "metadata": {
            "tags": [],
            "needs_background": "light"
          }
        }
      ]
    },
    {
      "cell_type": "code",
      "metadata": {
        "id": "ReYjvYyvfxtk"
      },
      "source": [
        ""
      ],
      "execution_count": null,
      "outputs": []
    }
  ]
}