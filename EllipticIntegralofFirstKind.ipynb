{
  "nbformat": 4,
  "nbformat_minor": 0,
  "metadata": {
    "colab": {
      "name": "EllipticIntegralofFirstKind.ipynb",
      "provenance": []
    },
    "kernelspec": {
      "name": "python3",
      "display_name": "Python 3"
    }
  },
  "cells": [
    {
      "cell_type": "markdown",
      "metadata": {
        "id": "de5M6rS2l1ie"
      },
      "source": [
        "This work is done for a homework given in 2020-2021 fall semester for Classical Mechanics.\n",
        "We were suppose to find how the period of a pendulum changes depending on the release angle."
      ]
    },
    {
      "cell_type": "code",
      "metadata": {
        "id": "K7QxsWQnTGSx"
      },
      "source": [
        "import scipy as sci\n",
        "import numpy as np\n",
        "import matplotlib.pyplot as plt\n",
        "from scipy import integrate"
      ],
      "execution_count": 1,
      "outputs": []
    },
    {
      "cell_type": "code",
      "metadata": {
        "id": "A8c7NV6xTKsr"
      },
      "source": [
        "def ellipticfirst(x,k):\n",
        "\n",
        "  kSin = (np.sin(np.deg2rad(k))*(np.sin(x)))**2\n",
        "  innerRoot = (1-kSin)\n",
        "  divider = np.sqrt(innerRoot)\n",
        "  \n",
        "  return np.power(divider,-1)\n"
      ],
      "execution_count": 78,
      "outputs": []
    },
    {
      "cell_type": "markdown",
      "metadata": {
        "id": "RHmOza4L9fld"
      },
      "source": [
        "**Below Solution is for when k = sin(phi_0) **"
      ]
    },
    {
      "cell_type": "code",
      "metadata": {
        "id": "Vi1nkOl-lj0C",
        "outputId": "74ec27a8-839a-418b-baf2-2ac2991a0a8a",
        "colab": {
          "base_uri": "https://localhost:8080/"
        }
      },
      "source": [
        "valuesPhi0 = []\n",
        "for k in range (90):\n",
        "      valuesPhi0.append(integrate.quadrature(ellipticfirst,0,np.pi/2,args=(k)))"
      ],
      "execution_count": 79,
      "outputs": [
        {
          "output_type": "stream",
          "text": [
            "/usr/local/lib/python3.6/dist-packages/scipy/integrate/quadrature.py:251: AccuracyWarning: maxiter (50) exceeded. Latest difference = 2.009785e-07\n",
            "  AccuracyWarning)\n"
          ],
          "name": "stderr"
        }
      ]
    },
    {
      "cell_type": "code",
      "metadata": {
        "id": "QNxq9aBvlYtg",
        "outputId": "3155afb9-6ccc-4557-b3d4-7f446f4d149b",
        "colab": {
          "base_uri": "https://localhost:8080/",
          "height": 312
        }
      },
      "source": [
        "integralValues = np.array(values)\n",
        "plt.xlabel(\"Degree\")\n",
        "plt.ylabel(\"Period (4x(l/g)^1/2 s)\")    \n",
        "plt.title(\"Variation of T with respect to Phi_0\")  \n",
        "plt.plot(integralValues[:,0])"
      ],
      "execution_count": 80,
      "outputs": [
        {
          "output_type": "execute_result",
          "data": {
            "text/plain": [
              "[<matplotlib.lines.Line2D at 0x7fcefd308f28>]"
            ]
          },
          "metadata": {
            "tags": []
          },
          "execution_count": 80
        },
        {
          "output_type": "display_data",
          "data": {
            "image/png": "[encoded data removed]",
            "text/plain": [
              "<Figure size 432x288 with 1 Axes>"
            ]
          },
          "metadata": {
            "tags": [],
            "needs_background": "light"
          }
        }
      ]
    },
    {
      "cell_type": "markdown",
      "metadata": {
        "id": "08bFZQgB9VY3"
      },
      "source": [
        "**Below Solution is for when k = sin(phi_0 / 2) **"
      ]
    },
    {
      "cell_type": "code",
      "metadata": {
        "id": "ReYjvYyvfxtk"
      },
      "source": [
        "valuesPhi0Over2 = []\n",
        "for k in range (90):\n",
        "      valuesPhi0Over2.append(integrate.quadrature(ellipticfirst,0,np.pi/2,args=(k/2)))"
      ],
      "execution_count": 83,
      "outputs": []
    },
    {
      "cell_type": "code",
      "metadata": {
        "id": "qxM3F4uF8siN",
        "outputId": "b0febd96-adc3-48da-9e7e-4322418e7c3e",
        "colab": {
          "base_uri": "https://localhost:8080/",
          "height": 312
        }
      },
      "source": [
        "integralValues = np.array(valuesPhi0Over2)\n",
        "plt.xlabel(\"Degree\")\n",
        "plt.ylabel(\"Period (4x(l/g)^1/2 s)\")    \n",
        "plt.title(\"Variation of T with respect to Phi_0\")  \n",
        "plt.plot(integralValues[:,0])"
      ],
      "execution_count": 84,
      "outputs": [
        {
          "output_type": "execute_result",
          "data": {
            "text/plain": [
              "[<matplotlib.lines.Line2D at 0x7fcefd248b00>]"
            ]
          },
          "metadata": {
            "tags": []
          },
          "execution_count": 84
        },
        {
          "output_type": "display_data",
          "data": {
            "image/png": "[encoded data removed]",
            "text/plain": [
              "<Figure size 432x288 with 1 Axes>"
            ]
          },
          "metadata": {
            "tags": [],
            "needs_background": "light"
          }
        }
      ]
    },
    {
      "cell_type": "code",
      "metadata": {
        "id": "bLxpGY-D8vP0"
      },
      "source": [
        ""
      ],
      "execution_count": null,
      "outputs": []
    }
  ]
}